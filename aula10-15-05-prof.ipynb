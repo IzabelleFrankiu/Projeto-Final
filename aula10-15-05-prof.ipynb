{
 "cells": [
  {
   "cell_type": "markdown",
   "id": "31952cb4-c6b6-49e2-80e8-afccfb55cccb",
   "metadata": {},
   "source": [
    "# Módulos e pacotes"
   ]
  },
  {
   "cell_type": "markdown",
   "id": "92138467-13d4-48a6-a30e-0bce6f1efb91",
   "metadata": {},
   "source": [
    "- Em Python, um módulo é um arquivo (script) que contém código Python e pode ser importado em outros arquivos Python. Ele é usado para compartilhar funções, classes e variáveis entre arquivos.\n",
    "- Já um pacote é uma coleção de módulos organizados em uma estrutura de diretórios. Ele permite a divisão de um aplicativo em múltiplos módulos, o que facilita a manutenção e o desenvolvimento. Tem a extensão .py e pode ser importado em outro script usando o comando import\n",
    "\n",
    "Visite o PyPi, repositório de pacotes da Linguagem Python: https://pypi.org/\n"
   ]
  },
  {
   "cell_type": "code",
   "execution_count": 1,
   "id": "88a9ab8a-d1d5-43a3-8837-ed56517285f6",
   "metadata": {},
   "outputs": [
    {
     "name": "stdout",
     "output_type": "stream",
     "text": [
      "Help on ufunc:\n",
      "\n",
      "sqrt = <ufunc 'sqrt'>\n",
      "    sqrt(x, /, out=None, *, where=True, casting='same_kind', order='K', dtype=None, subok=True[, signature, extobj])\n",
      "    \n",
      "    Return the non-negative square-root of an array, element-wise.\n",
      "    \n",
      "    Parameters\n",
      "    ----------\n",
      "    x : array_like\n",
      "        The values whose square-roots are required.\n",
      "    out : ndarray, None, or tuple of ndarray and None, optional\n",
      "        A location into which the result is stored. If provided, it must have\n",
      "        a shape that the inputs broadcast to. If not provided or None,\n",
      "        a freshly-allocated array is returned. A tuple (possible only as a\n",
      "        keyword argument) must have length equal to the number of outputs.\n",
      "    where : array_like, optional\n",
      "        This condition is broadcast over the input. At locations where the\n",
      "        condition is True, the `out` array will be set to the ufunc result.\n",
      "        Elsewhere, the `out` array will retain its original value.\n",
      "        Note that if an uninitialized `out` array is created via the default\n",
      "        ``out=None``, locations within it where the condition is False will\n",
      "        remain uninitialized.\n",
      "    **kwargs\n",
      "        For other keyword-only arguments, see the\n",
      "        :ref:`ufunc docs <ufuncs.kwargs>`.\n",
      "    \n",
      "    Returns\n",
      "    -------\n",
      "    y : ndarray\n",
      "        An array of the same shape as `x`, containing the positive\n",
      "        square-root of each element in `x`.  If any element in `x` is\n",
      "        complex, a complex array is returned (and the square-roots of\n",
      "        negative reals are calculated).  If all of the elements in `x`\n",
      "        are real, so is `y`, with negative elements returning ``nan``.\n",
      "        If `out` was provided, `y` is a reference to it.\n",
      "        This is a scalar if `x` is a scalar.\n",
      "    \n",
      "    See Also\n",
      "    --------\n",
      "    emath.sqrt\n",
      "        A version which returns complex numbers when given negative reals.\n",
      "        Note: 0.0 and -0.0 are handled differently for complex inputs.\n",
      "    \n",
      "    Notes\n",
      "    -----\n",
      "    *sqrt* has--consistent with common convention--as its branch cut the\n",
      "    real \"interval\" [`-inf`, 0), and is continuous from above on it.\n",
      "    A branch cut is a curve in the complex plane across which a given\n",
      "    complex function fails to be continuous.\n",
      "    \n",
      "    Examples\n",
      "    --------\n",
      "    >>> np.sqrt([1,4,9])\n",
      "    array([ 1.,  2.,  3.])\n",
      "    \n",
      "    >>> np.sqrt([4, -1, -3+4J])\n",
      "    array([ 2.+0.j,  0.+1.j,  1.+2.j])\n",
      "    \n",
      "    >>> np.sqrt([4, -1, np.inf])\n",
      "    array([ 2., nan, inf])\n",
      "\n"
     ]
    }
   ],
   "source": [
    "import numpy # Importando um pacote Python\n",
    "from numpy import sqrt # importante uma função específica de um módulo\n",
    "numpy.sqrt(25) # Usando um dos métodos do pacote Numpy\n",
    "\n",
    "dir(numpy) # Verificando todos os métodos e atributos disponíveis no pacote\n",
    "help(sqrt) # Help do método sqrt do pacote Numpy"
   ]
  },
  {
   "cell_type": "markdown",
   "id": "f3bb7945-f16b-43c7-b215-1d83fbed1367",
   "metadata": {
    "tags": []
   },
   "source": [
    "# Listas de dados (Manipulação de arquivos)"
   ]
  },
  {
   "cell_type": "markdown",
   "id": "df58b367-4787-45f9-9f25-4b8865553d6c",
   "metadata": {},
   "source": [
    "- Objetos de arquivos interagem com arquivos, como áudio, texto, Excel etc\n",
    "- Pacotes, bibliotecas ou módulos permitem a interação com arquivos"
   ]
  },
  {
   "cell_type": "markdown",
   "id": "cdd9106d-3906-474f-ba4f-4261b873db4e",
   "metadata": {
    "jp-MarkdownHeadingCollapsed": true,
    "tags": []
   },
   "source": [
    "## Principais tipos de arquivos"
   ]
  },
  {
   "cell_type": "markdown",
   "id": "967da1db-1d46-4979-9aa8-d07a63ece41f",
   "metadata": {},
   "source": [
    "TXT:\n",
    "- TXT é a extensão de arquivo para arquivos de texto puro. Um arquivo TXT é um arquivo de texto simples sem formatação, como negrito, itálico ou fontes diferentes. \n",
    "- Ele pode ser aberto e editado com muitos aplicativos diferentes, incluindo editores de texto, processadores de texto e IDEs. \n",
    "- Arquivos TXT são amplamente utilizados para armazenar dados de texto simples, como listas, notas e documentos de texto. \n",
    "- Eles são universais e podem ser lidos em praticamente qualquer dispositivo ou sistema operacional.\n",
    "\n",
    "CSV:\n",
    "- CSV (Comma-Separated Values) é um formato de arquivo que armazena dados tabulares em formato de texto plano. \n",
    "- Cada linha do arquivo CSV representa uma linha da tabela e as colunas são separadas por vírgulas. \n",
    "- É amplamente utilizado para exportar e importar dados em diferentes aplicações, como planilhas e banco de dados. \n",
    "- É uma opção simples e universal para compartilhar dados, pois pode ser aberto e editado com muitos aplicativos diferentes, incluindo programas de planilha e editores de texto.\n",
    "\n",
    "JSON:\n",
    "- JSON (JavaScript Object Notation) é um formato de dados de texto simples e leve que é utilizado para transmitir informações em aplicações web. \n",
    "- É baseado em uma estrutura de objetos JavaScript e usa pares de chave-valor para representar dados. \n",
    "- É facilmente lido e escrito por máquinas e é amplamente utilizado como formato de intercâmbio de dados em aplicações web modernas."
   ]
  },
  {
   "cell_type": "markdown",
   "id": "36584e48-fde1-4c34-afc9-dcf20ec48285",
   "metadata": {
    "jp-MarkdownHeadingCollapsed": true,
    "tags": []
   },
   "source": [
    "## Manipular arquivos usando bibliotecas nativas do Python"
   ]
  },
  {
   "cell_type": "markdown",
   "id": "f3c36999-2fa9-4955-9e31-153936cb26d9",
   "metadata": {},
   "source": [
    "Métodos básicos:\n",
    "- open() #usada para abrir o arquivo\n",
    "- read() #usada para ler o arquivo\n",
    "- write() #usada para gravar no arquivo\n",
    "- seek() #retorna para o início do arquivo\n",
    "- readlines() #retorna a lista de linhas do arquivo\n",
    "- close() #fecha o arquivo"
   ]
  },
  {
   "cell_type": "code",
   "execution_count": 2,
   "id": "defa3f61-80ef-4ee5-8125-ad6c2fa9568a",
   "metadata": {},
   "outputs": [
    {
     "ename": "FileNotFoundError",
     "evalue": "[Errno 2] No such file or directory: 'aula10/arquivo1.txt'",
     "output_type": "error",
     "traceback": [
      "\u001b[1;31m---------------------------------------------------------------------------\u001b[0m",
      "\u001b[1;31mFileNotFoundError\u001b[0m                         Traceback (most recent call last)",
      "Cell \u001b[1;32mIn[2], line 2\u001b[0m\n\u001b[0;32m      1\u001b[0m \u001b[38;5;66;03m# Leitura de arquivos\u001b[39;00m\n\u001b[1;32m----> 2\u001b[0m arq1 \u001b[38;5;241m=\u001b[39m \u001b[38;5;28;43mopen\u001b[39;49m\u001b[43m(\u001b[49m\u001b[38;5;124;43m\"\u001b[39;49m\u001b[38;5;124;43maula10/arquivo1.txt\u001b[39;49m\u001b[38;5;124;43m\"\u001b[39;49m\u001b[43m,\u001b[49m\u001b[43m \u001b[49m\u001b[38;5;124;43m\"\u001b[39;49m\u001b[38;5;124;43mr\u001b[39;49m\u001b[38;5;124;43m\"\u001b[39;49m\u001b[43m,\u001b[49m\u001b[43m \u001b[49m\u001b[43mencoding\u001b[49m\u001b[38;5;241;43m=\u001b[39;49m\u001b[38;5;124;43m'\u001b[39;49m\u001b[38;5;124;43mutf8\u001b[39;49m\u001b[38;5;124;43m'\u001b[39;49m\u001b[43m)\u001b[49m  \u001b[38;5;66;03m# Abrindo o arquivo para leitura (r)\u001b[39;00m\n\u001b[0;32m      3\u001b[0m \u001b[38;5;28mprint\u001b[39m(arq1\u001b[38;5;241m.\u001b[39mread())  \u001b[38;5;66;03m# Lendo o arquivo\u001b[39;00m\n\u001b[0;32m      4\u001b[0m \u001b[38;5;28mprint\u001b[39m(arq1\u001b[38;5;241m.\u001b[39mseek(\u001b[38;5;241m0\u001b[39m,\u001b[38;5;241m0\u001b[39m))  \u001b[38;5;66;03m# Retornar para o início do arquivo\u001b[39;00m\n",
      "File \u001b[1;32m~\\anaconda3\\lib\\site-packages\\IPython\\core\\interactiveshell.py:282\u001b[0m, in \u001b[0;36m_modified_open\u001b[1;34m(file, *args, **kwargs)\u001b[0m\n\u001b[0;32m    275\u001b[0m \u001b[38;5;28;01mif\u001b[39;00m file \u001b[38;5;129;01min\u001b[39;00m {\u001b[38;5;241m0\u001b[39m, \u001b[38;5;241m1\u001b[39m, \u001b[38;5;241m2\u001b[39m}:\n\u001b[0;32m    276\u001b[0m     \u001b[38;5;28;01mraise\u001b[39;00m \u001b[38;5;167;01mValueError\u001b[39;00m(\n\u001b[0;32m    277\u001b[0m         \u001b[38;5;124mf\u001b[39m\u001b[38;5;124m\"\u001b[39m\u001b[38;5;124mIPython won\u001b[39m\u001b[38;5;124m'\u001b[39m\u001b[38;5;124mt let you open fd=\u001b[39m\u001b[38;5;132;01m{\u001b[39;00mfile\u001b[38;5;132;01m}\u001b[39;00m\u001b[38;5;124m by default \u001b[39m\u001b[38;5;124m\"\u001b[39m\n\u001b[0;32m    278\u001b[0m         \u001b[38;5;124m\"\u001b[39m\u001b[38;5;124mas it is likely to crash IPython. If you know what you are doing, \u001b[39m\u001b[38;5;124m\"\u001b[39m\n\u001b[0;32m    279\u001b[0m         \u001b[38;5;124m\"\u001b[39m\u001b[38;5;124myou can use builtins\u001b[39m\u001b[38;5;124m'\u001b[39m\u001b[38;5;124m open.\u001b[39m\u001b[38;5;124m\"\u001b[39m\n\u001b[0;32m    280\u001b[0m     )\n\u001b[1;32m--> 282\u001b[0m \u001b[38;5;28;01mreturn\u001b[39;00m io_open(file, \u001b[38;5;241m*\u001b[39margs, \u001b[38;5;241m*\u001b[39m\u001b[38;5;241m*\u001b[39mkwargs)\n",
      "\u001b[1;31mFileNotFoundError\u001b[0m: [Errno 2] No such file or directory: 'aula10/arquivo1.txt'"
     ]
    }
   ],
   "source": [
    "# Leitura de arquivos\n",
    "arq1 = open(\"aula10/arquivo1.txt\", \"r\", encoding='utf8')  # Abrindo o arquivo para leitura (r)\n",
    "print(arq1.read())  # Lendo o arquivo\n",
    "print(arq1.seek(0,0))  # Retornar para o início do arquivo\n",
    "print(arq1.read(10))  # Ler os primeiros 10 caracteres\n",
    "print(arq1.tell())  # Contar o número de caracteres\n",
    "print(arq1.seek(0,0))  # Retornar para o início do arquivo\n"
   ]
  },
  {
   "cell_type": "code",
   "execution_count": null,
   "id": "68066711-60cc-41a2-a4af-bb59c611a93b",
   "metadata": {},
   "outputs": [],
   "source": [
    "# Gravação de arquivos\n",
    "\n",
    "arq2 = open(\"aula10/arquivo1.txt\", \"w\")  # Abrindo arquivo para gravação (w)\n",
    "# Quando abre para gravação, não permite a leitura (read)\n",
    "arq2.write(\"Testando gravação de arquivos em Python \")  # Gravando arquivo\n",
    "arq2.close()  # fechando arquivo após gravação\n",
    "arq2 = open(\"arquivos/arquivo1.txt\", \"r\")  # Lendo arquivo gravado\n",
    "print(arq2.read())"
   ]
  },
  {
   "cell_type": "code",
   "execution_count": null,
   "id": "65bccd0e-f912-4277-9b2e-cc766976e8f9",
   "metadata": {},
   "outputs": [],
   "source": [
    "# Criação de novo arquivo (solicitando nome do arquivo)\n",
    "\n",
    "fileName = input(\"Digite o nome do arquivo: \")  # Solicita o nome para o novo arquivo\n",
    "fileName = fileName + \".txt\"  # acrescenta a extensão\n",
    "arq3 = open(fileName, \"w\")  # Abrindo novo arquivo para gravação (w)\n",
    "arq3.write(\"Incluindo texto no arquivo criado\")  # acrescenta conteúdo ao arquivo\n",
    "arq3.close()\n",
    "arq3 = open(fileName, \"r\")\n",
    "print(arq3.read())\n",
    "arq3.close()\n"
   ]
  },
  {
   "cell_type": "code",
   "execution_count": null,
   "id": "c0ebcbc4-4a05-4f17-a013-a79ea54dc2c2",
   "metadata": {},
   "outputs": [],
   "source": [
    "# Abrir dataset em csv e agrupar em linhas e colunas\n",
    "\n",
    "f = open('aula10/salarios.csv', 'r')  #abre o arquivo CSV\n",
    "dados = f.read()  #carrega os dados em uma variável\n",
    "linhas = dados.split('\\n')\n",
    "dados_novo = []  # cria lista vazia para receber os dados\n",
    "for linha in linhas:  # percorre cada linha de linhas\n",
    "    linha_div = linha.split(\",\")  # divide o conteúdo da linha usando o separador (split)\n",
    "    dados_novo.append(linha_div)  # adiciona o conteúdo dividido à lista criada antes\n",
    "print(dados_novo)\n",
    "\n",
    "count = 0\n",
    "for linha in dados_novo:  # utilizando para contar as linhas da base\n",
    "    count += 1 \n",
    "print(count)\n",
    "\n",
    "count = 0\n",
    "for column in dados_novo[0]:  # utilizando para contar as colunas da primeira [0] linha da base\n",
    "    count = count + 1\n",
    "print(count)\n"
   ]
  },
  {
   "cell_type": "code",
   "execution_count": null,
   "id": "5d03e11d-99cf-4623-a70a-b3f33a7f72a8",
   "metadata": {},
   "outputs": [],
   "source": [
    "# com with não precisa fechar o arquivo ao terminar\n",
    "\n",
    "#utilizar with para abrir arquivo\n",
    "with open('aula10/cientista.txt','r') as arquivo: # com o arquivo aberto\n",
    "    conteudo = arquivo.read() #conteudo recebe o conteúdo do arquivo\n",
    "\n",
    "print(len(conteudo)) # imprime o tamanho do texto\n",
    "print(conteudo) # imprime o conteúdo\n",
    "\n",
    "#utiliar with para gravar arquivo\n",
    "with open('aula10/cientista.txt','w') as arquivo: \n",
    "    arquivo.write('Cientista de Dados') # usando slice pra fatiar parte do texto\n",
    "    arquivo.write('\\n') # imprime parágrafo\n",
    "    arquivo.write('uma excelente alternativa de carreira')\n"
   ]
  },
  {
   "cell_type": "markdown",
   "id": "1cf3933b-8b55-4e4c-9aca-08fd52c1faa6",
   "metadata": {
    "jp-MarkdownHeadingCollapsed": true,
    "tags": []
   },
   "source": [
    "## Desafio: Usando bibliotecas do Python"
   ]
  },
  {
   "cell_type": "markdown",
   "id": "6d1ea3c1-bf17-4c2e-ae48-1971985e9d3c",
   "metadata": {},
   "source": [
    "Exercício1 - Solicite ao usuário o nome do arquivo e utilize para criar um arquivo em formato .TXT. Depois, solicite ao usuário a digitação de um texto e grave o texto dentro do arquivo criado anteriormente\n",
    "- Exigência: deve utiilizar métodos e funções já inclídas no Python"
   ]
  },
  {
   "cell_type": "code",
   "execution_count": null,
   "id": "fce31be3-fb8c-415f-b91a-6260c5ade013",
   "metadata": {},
   "outputs": [],
   "source": [
    "nome = input(\"Digite o nome do arquivo: \")  # Solicita o nome para o novo arquivo\n",
    "nome = nome + \".txt\"  # acrescenta a extensão\n",
    "arq = open(nome, \"w\")  # Abrindo novo arquivo para gravação (w)\n",
    "texto = input(\"Digite o conteúdo do arquivo: \") # solicita o conteúdo do arquivo\n",
    "arq.write(texto)  # acrescenta conteúdo ao arquivo\n",
    "arq.close()\n",
    "arq = open(nome, \"r\")\n",
    "print(arq.read())\n",
    "arq.close()"
   ]
  },
  {
   "cell_type": "markdown",
   "id": "83a5bc90-9d94-4674-af81-0c73dc0884be",
   "metadata": {
    "jp-MarkdownHeadingCollapsed": true,
    "tags": []
   },
   "source": [
    "## Manipular CSV usando pacote CSV"
   ]
  },
  {
   "cell_type": "markdown",
   "id": "5e068045-7921-406b-94b9-d8964543ccee",
   "metadata": {},
   "source": [
    "CSV é um pacote de recursos para leitura e escrita de dados tabulares em formato CSV\n",
    "\n",
    "Documentação: https://docs.python.org/pt-br/3/library/csv.html"
   ]
  },
  {
   "cell_type": "code",
   "execution_count": null,
   "id": "8729025d-0e32-43a5-904e-a47ab755bf6c",
   "metadata": {},
   "outputs": [],
   "source": [
    "# Importando o módulo csv\n",
    "import csv\n",
    "\n",
    "# abrir arquivo números para escrita\n",
    "with open('aula10/numeros.csv','w') as arquivo:\n",
    "    writer = csv.writer(arquivo) # checa se arquivo existe, cria e abre para edição\n",
    "    writer.writerow(('primeira','segunda','terceira')) # writerow vai escrever uma linha no arquivo\n",
    "    writer.writerow((55,93,76)) \n",
    "    writer.writerow((62,14,86))\n"
   ]
  },
  {
   "cell_type": "code",
   "execution_count": null,
   "id": "92fa2936-e559-4acb-905a-7ef331cae39c",
   "metadata": {},
   "outputs": [],
   "source": [
    "# Leitura de arquivos csv\n",
    "with open('aula10/numeros.csv','r' , encoding='utf8', newline = '\\r\\n') as arquivo: # abrir arquivo para leitura. Encoding evita problema de formato e newline garante que linha em branco não gere problema\n",
    "    leitor = csv.reader(arquivo) # ler o arquivo csv\n",
    "    for x in leitor: # percorre as linhas do arquivo     \n",
    "        print(x) # imprime a linha\n",
    "    print ('Número de colunas:', len(x)) # imprime o número de colunas da linha\n",
    "\n",
    "# Gerando uma lista com dados do arquivo csv\n",
    "with open('aula10/numeros.csv','r') as arquivo:\n",
    "    leitor = csv.reader(arquivo)\n",
    "    dados = list(leitor)\n",
    "    \n",
    "print (dados)\n",
    "\n",
    "# Imprimindo a partir da segunda linha da lista\n",
    "for linha in dados[1:]:\n",
    "    print (linha)\n",
    "\n"
   ]
  },
  {
   "cell_type": "markdown",
   "id": "b30e71fc-2635-4770-8d67-f475259ac691",
   "metadata": {
    "jp-MarkdownHeadingCollapsed": true,
    "tags": []
   },
   "source": [
    "## Desafio: Usando pacote CSV"
   ]
  },
  {
   "cell_type": "markdown",
   "id": "0ee4ead5-e2f8-4737-bde9-5a377d13c77a",
   "metadata": {},
   "source": [
    "Exercício 2 - Crie um arquivo com o nome exe2.csv e escreva os dados da seguinte tabela neste arquivo. \n",
    "- Exigência: Deve utilizar pacote CSV \n",
    "\n",
    "Mês | Receita | Lucro operacional\n",
    "----| ------- | -----------------\n",
    "Jan | 80000   | 23430.30\n",
    "Fev | 92430   | 25120.50\n",
    "Mar | 79300   | 20200.00\n",
    "Abr | 85454   | 26333.89"
   ]
  },
  {
   "cell_type": "code",
   "execution_count": null,
   "id": "4ecf22e7-9a0d-4145-a90b-ac6b5f3e5a51",
   "metadata": {},
   "outputs": [],
   "source": [
    "# Importando o módulo csv\n",
    "import csv\n",
    "\n",
    "# abrir arquivo números para escrita\n",
    "with open('exe2.csv','w') as arquivo:\n",
    "    writer = csv.writer(arquivo) # checa se arquivo existe, cria e abre para edição\n",
    "    writer.writerow(('Mês','Receita','Lucro operacional')) # writerow vai escrever uma linha no arquivo\n",
    "    writer.writerow(('Jan',80000,23430.30)) \n",
    "    writer.writerow(('Fev',92430,25120.50)) \n",
    "    writer.writerow(('Mar',79300,20200.00)) \n",
    "    writer.writerow(('Abr',85454,26333.89)) \n"
   ]
  },
  {
   "cell_type": "markdown",
   "id": "31e5b3ce-5a93-4780-ba27-f303b18e7645",
   "metadata": {},
   "source": [
    "Exercício 3 - Percorra o arquivo criado acima e apresente os dados, uma linha por vês. Ao final das linhas, apresente o número de colunas e de linhas do arquivo. \n",
    "- Exigência: não deve apresentar ou contar as linhas em branco. deve utilizar a função with para facilitar a leitura"
   ]
  },
  {
   "cell_type": "code",
   "execution_count": null,
   "id": "538575bb-6d03-47bc-a003-932131eeb5f8",
   "metadata": {},
   "outputs": [],
   "source": [
    "# Leitura de arquivos csv\n",
    "with open('exe2.csv','r' , newline = '\\r\\n') as arquivo: \n",
    "    leitor = csv.reader(arquivo) # ler o arquivo csv\n",
    "    cont_linhas = 0\n",
    "    for linha in leitor: # percorre as linhas do arquivo     \n",
    "        print(linha) # imprime a linha\n",
    "        cont_linhas = cont_linhas + 1\n",
    "    print ('Número de colunas:', len(x)) # imprime o número de colunas da linha\n",
    "    print ('Número de linhas:', cont_linhas)"
   ]
  },
  {
   "cell_type": "markdown",
   "id": "4bddbe78-a76e-427b-b4c2-7d80b6ae09a7",
   "metadata": {
    "tags": []
   },
   "source": [
    "## Manipular CSV usando pacote Pandas"
   ]
  },
  {
   "cell_type": "markdown",
   "id": "fdf4337e-1b71-4a94-977a-94d2adaa1196",
   "metadata": {},
   "source": [
    "Pandas é um pacote (Anaconda) de recursos para manipulação de arquivos e análise de dados \n",
    "\n",
    "Doc1: https://pandasguide.readthedocs.io/en/latest/index.html\n",
    "\n",
    "Doc2: https://www.w3schools.com/python/pandas/default.asp"
   ]
  },
  {
   "cell_type": "code",
   "execution_count": 3,
   "id": "0a8c9334-8492-4e5a-86b4-77f320fa19a5",
   "metadata": {},
   "outputs": [
    {
     "name": "stdout",
     "output_type": "stream",
     "text": [
      "Requirement already satisfied: pandas in c:\\users\\izabelle\\anaconda3\\lib\\site-packages (1.5.3)\n",
      "Requirement already satisfied: pytz>=2020.1 in c:\\users\\izabelle\\anaconda3\\lib\\site-packages (from pandas) (2022.7)\n",
      "Requirement already satisfied: python-dateutil>=2.8.1 in c:\\users\\izabelle\\anaconda3\\lib\\site-packages (from pandas) (2.8.2)\n",
      "Requirement already satisfied: numpy>=1.21.0 in c:\\users\\izabelle\\anaconda3\\lib\\site-packages (from pandas) (1.23.5)\n",
      "Requirement already satisfied: six>=1.5 in c:\\users\\izabelle\\anaconda3\\lib\\site-packages (from python-dateutil>=2.8.1->pandas) (1.16.0)\n"
     ]
    }
   ],
   "source": [
    "# caso a IDE não encontre o pacote pandas, é preciso instalar primeiro\n",
    "!pip install pandas"
   ]
  },
  {
   "cell_type": "code",
   "execution_count": 4,
   "id": "310bbc58-07b9-4f4b-b165-183f3420bc09",
   "metadata": {},
   "outputs": [
    {
     "ename": "FileNotFoundError",
     "evalue": "[Errno 2] No such file or directory: 'salarios.csv'",
     "output_type": "error",
     "traceback": [
      "\u001b[1;31m---------------------------------------------------------------------------\u001b[0m",
      "\u001b[1;31mFileNotFoundError\u001b[0m                         Traceback (most recent call last)",
      "Cell \u001b[1;32mIn[4], line 5\u001b[0m\n\u001b[0;32m      2\u001b[0m \u001b[38;5;28;01mimport\u001b[39;00m \u001b[38;5;21;01mpandas\u001b[39;00m \u001b[38;5;28;01mas\u001b[39;00m \u001b[38;5;21;01mpd\u001b[39;00m  \n\u001b[0;32m      4\u001b[0m arquivo \u001b[38;5;241m=\u001b[39m \u001b[38;5;124m\"\u001b[39m\u001b[38;5;124msalarios.csv\u001b[39m\u001b[38;5;124m\"\u001b[39m  \u001b[38;5;66;03m# abrir arquivo csv\u001b[39;00m\n\u001b[1;32m----> 5\u001b[0m df \u001b[38;5;241m=\u001b[39m \u001b[43mpd\u001b[49m\u001b[38;5;241;43m.\u001b[39;49m\u001b[43mread_csv\u001b[49m\u001b[43m(\u001b[49m\u001b[43marquivo\u001b[49m\u001b[43m,\u001b[49m\u001b[43m \u001b[49m\u001b[43msep\u001b[49m\u001b[38;5;241;43m=\u001b[39;49m\u001b[38;5;124;43m'\u001b[39;49m\u001b[38;5;124;43m;\u001b[39;49m\u001b[38;5;124;43m'\u001b[39;49m\u001b[43m)\u001b[49m  \u001b[38;5;66;03m# importa dados para a variável df usando a função read_csv\u001b[39;00m\n\u001b[0;32m      6\u001b[0m df\u001b[38;5;241m.\u001b[39mhead()\n",
      "File \u001b[1;32m~\\anaconda3\\lib\\site-packages\\pandas\\util\\_decorators.py:211\u001b[0m, in \u001b[0;36mdeprecate_kwarg.<locals>._deprecate_kwarg.<locals>.wrapper\u001b[1;34m(*args, **kwargs)\u001b[0m\n\u001b[0;32m    209\u001b[0m     \u001b[38;5;28;01melse\u001b[39;00m:\n\u001b[0;32m    210\u001b[0m         kwargs[new_arg_name] \u001b[38;5;241m=\u001b[39m new_arg_value\n\u001b[1;32m--> 211\u001b[0m \u001b[38;5;28;01mreturn\u001b[39;00m func(\u001b[38;5;241m*\u001b[39margs, \u001b[38;5;241m*\u001b[39m\u001b[38;5;241m*\u001b[39mkwargs)\n",
      "File \u001b[1;32m~\\anaconda3\\lib\\site-packages\\pandas\\util\\_decorators.py:331\u001b[0m, in \u001b[0;36mdeprecate_nonkeyword_arguments.<locals>.decorate.<locals>.wrapper\u001b[1;34m(*args, **kwargs)\u001b[0m\n\u001b[0;32m    325\u001b[0m \u001b[38;5;28;01mif\u001b[39;00m \u001b[38;5;28mlen\u001b[39m(args) \u001b[38;5;241m>\u001b[39m num_allow_args:\n\u001b[0;32m    326\u001b[0m     warnings\u001b[38;5;241m.\u001b[39mwarn(\n\u001b[0;32m    327\u001b[0m         msg\u001b[38;5;241m.\u001b[39mformat(arguments\u001b[38;5;241m=\u001b[39m_format_argument_list(allow_args)),\n\u001b[0;32m    328\u001b[0m         \u001b[38;5;167;01mFutureWarning\u001b[39;00m,\n\u001b[0;32m    329\u001b[0m         stacklevel\u001b[38;5;241m=\u001b[39mfind_stack_level(),\n\u001b[0;32m    330\u001b[0m     )\n\u001b[1;32m--> 331\u001b[0m \u001b[38;5;28;01mreturn\u001b[39;00m func(\u001b[38;5;241m*\u001b[39margs, \u001b[38;5;241m*\u001b[39m\u001b[38;5;241m*\u001b[39mkwargs)\n",
      "File \u001b[1;32m~\\anaconda3\\lib\\site-packages\\pandas\\io\\parsers\\readers.py:950\u001b[0m, in \u001b[0;36mread_csv\u001b[1;34m(filepath_or_buffer, sep, delimiter, header, names, index_col, usecols, squeeze, prefix, mangle_dupe_cols, dtype, engine, converters, true_values, false_values, skipinitialspace, skiprows, skipfooter, nrows, na_values, keep_default_na, na_filter, verbose, skip_blank_lines, parse_dates, infer_datetime_format, keep_date_col, date_parser, dayfirst, cache_dates, iterator, chunksize, compression, thousands, decimal, lineterminator, quotechar, quoting, doublequote, escapechar, comment, encoding, encoding_errors, dialect, error_bad_lines, warn_bad_lines, on_bad_lines, delim_whitespace, low_memory, memory_map, float_precision, storage_options)\u001b[0m\n\u001b[0;32m    935\u001b[0m kwds_defaults \u001b[38;5;241m=\u001b[39m _refine_defaults_read(\n\u001b[0;32m    936\u001b[0m     dialect,\n\u001b[0;32m    937\u001b[0m     delimiter,\n\u001b[1;32m   (...)\u001b[0m\n\u001b[0;32m    946\u001b[0m     defaults\u001b[38;5;241m=\u001b[39m{\u001b[38;5;124m\"\u001b[39m\u001b[38;5;124mdelimiter\u001b[39m\u001b[38;5;124m\"\u001b[39m: \u001b[38;5;124m\"\u001b[39m\u001b[38;5;124m,\u001b[39m\u001b[38;5;124m\"\u001b[39m},\n\u001b[0;32m    947\u001b[0m )\n\u001b[0;32m    948\u001b[0m kwds\u001b[38;5;241m.\u001b[39mupdate(kwds_defaults)\n\u001b[1;32m--> 950\u001b[0m \u001b[38;5;28;01mreturn\u001b[39;00m \u001b[43m_read\u001b[49m\u001b[43m(\u001b[49m\u001b[43mfilepath_or_buffer\u001b[49m\u001b[43m,\u001b[49m\u001b[43m \u001b[49m\u001b[43mkwds\u001b[49m\u001b[43m)\u001b[49m\n",
      "File \u001b[1;32m~\\anaconda3\\lib\\site-packages\\pandas\\io\\parsers\\readers.py:605\u001b[0m, in \u001b[0;36m_read\u001b[1;34m(filepath_or_buffer, kwds)\u001b[0m\n\u001b[0;32m    602\u001b[0m _validate_names(kwds\u001b[38;5;241m.\u001b[39mget(\u001b[38;5;124m\"\u001b[39m\u001b[38;5;124mnames\u001b[39m\u001b[38;5;124m\"\u001b[39m, \u001b[38;5;28;01mNone\u001b[39;00m))\n\u001b[0;32m    604\u001b[0m \u001b[38;5;66;03m# Create the parser.\u001b[39;00m\n\u001b[1;32m--> 605\u001b[0m parser \u001b[38;5;241m=\u001b[39m TextFileReader(filepath_or_buffer, \u001b[38;5;241m*\u001b[39m\u001b[38;5;241m*\u001b[39mkwds)\n\u001b[0;32m    607\u001b[0m \u001b[38;5;28;01mif\u001b[39;00m chunksize \u001b[38;5;129;01mor\u001b[39;00m iterator:\n\u001b[0;32m    608\u001b[0m     \u001b[38;5;28;01mreturn\u001b[39;00m parser\n",
      "File \u001b[1;32m~\\anaconda3\\lib\\site-packages\\pandas\\io\\parsers\\readers.py:1442\u001b[0m, in \u001b[0;36mTextFileReader.__init__\u001b[1;34m(self, f, engine, **kwds)\u001b[0m\n\u001b[0;32m   1439\u001b[0m     \u001b[38;5;28mself\u001b[39m\u001b[38;5;241m.\u001b[39moptions[\u001b[38;5;124m\"\u001b[39m\u001b[38;5;124mhas_index_names\u001b[39m\u001b[38;5;124m\"\u001b[39m] \u001b[38;5;241m=\u001b[39m kwds[\u001b[38;5;124m\"\u001b[39m\u001b[38;5;124mhas_index_names\u001b[39m\u001b[38;5;124m\"\u001b[39m]\n\u001b[0;32m   1441\u001b[0m \u001b[38;5;28mself\u001b[39m\u001b[38;5;241m.\u001b[39mhandles: IOHandles \u001b[38;5;241m|\u001b[39m \u001b[38;5;28;01mNone\u001b[39;00m \u001b[38;5;241m=\u001b[39m \u001b[38;5;28;01mNone\u001b[39;00m\n\u001b[1;32m-> 1442\u001b[0m \u001b[38;5;28mself\u001b[39m\u001b[38;5;241m.\u001b[39m_engine \u001b[38;5;241m=\u001b[39m \u001b[38;5;28;43mself\u001b[39;49m\u001b[38;5;241;43m.\u001b[39;49m\u001b[43m_make_engine\u001b[49m\u001b[43m(\u001b[49m\u001b[43mf\u001b[49m\u001b[43m,\u001b[49m\u001b[43m \u001b[49m\u001b[38;5;28;43mself\u001b[39;49m\u001b[38;5;241;43m.\u001b[39;49m\u001b[43mengine\u001b[49m\u001b[43m)\u001b[49m\n",
      "File \u001b[1;32m~\\anaconda3\\lib\\site-packages\\pandas\\io\\parsers\\readers.py:1735\u001b[0m, in \u001b[0;36mTextFileReader._make_engine\u001b[1;34m(self, f, engine)\u001b[0m\n\u001b[0;32m   1733\u001b[0m     \u001b[38;5;28;01mif\u001b[39;00m \u001b[38;5;124m\"\u001b[39m\u001b[38;5;124mb\u001b[39m\u001b[38;5;124m\"\u001b[39m \u001b[38;5;129;01mnot\u001b[39;00m \u001b[38;5;129;01min\u001b[39;00m mode:\n\u001b[0;32m   1734\u001b[0m         mode \u001b[38;5;241m+\u001b[39m\u001b[38;5;241m=\u001b[39m \u001b[38;5;124m\"\u001b[39m\u001b[38;5;124mb\u001b[39m\u001b[38;5;124m\"\u001b[39m\n\u001b[1;32m-> 1735\u001b[0m \u001b[38;5;28mself\u001b[39m\u001b[38;5;241m.\u001b[39mhandles \u001b[38;5;241m=\u001b[39m \u001b[43mget_handle\u001b[49m\u001b[43m(\u001b[49m\n\u001b[0;32m   1736\u001b[0m \u001b[43m    \u001b[49m\u001b[43mf\u001b[49m\u001b[43m,\u001b[49m\n\u001b[0;32m   1737\u001b[0m \u001b[43m    \u001b[49m\u001b[43mmode\u001b[49m\u001b[43m,\u001b[49m\n\u001b[0;32m   1738\u001b[0m \u001b[43m    \u001b[49m\u001b[43mencoding\u001b[49m\u001b[38;5;241;43m=\u001b[39;49m\u001b[38;5;28;43mself\u001b[39;49m\u001b[38;5;241;43m.\u001b[39;49m\u001b[43moptions\u001b[49m\u001b[38;5;241;43m.\u001b[39;49m\u001b[43mget\u001b[49m\u001b[43m(\u001b[49m\u001b[38;5;124;43m\"\u001b[39;49m\u001b[38;5;124;43mencoding\u001b[39;49m\u001b[38;5;124;43m\"\u001b[39;49m\u001b[43m,\u001b[49m\u001b[43m \u001b[49m\u001b[38;5;28;43;01mNone\u001b[39;49;00m\u001b[43m)\u001b[49m\u001b[43m,\u001b[49m\n\u001b[0;32m   1739\u001b[0m \u001b[43m    \u001b[49m\u001b[43mcompression\u001b[49m\u001b[38;5;241;43m=\u001b[39;49m\u001b[38;5;28;43mself\u001b[39;49m\u001b[38;5;241;43m.\u001b[39;49m\u001b[43moptions\u001b[49m\u001b[38;5;241;43m.\u001b[39;49m\u001b[43mget\u001b[49m\u001b[43m(\u001b[49m\u001b[38;5;124;43m\"\u001b[39;49m\u001b[38;5;124;43mcompression\u001b[39;49m\u001b[38;5;124;43m\"\u001b[39;49m\u001b[43m,\u001b[49m\u001b[43m \u001b[49m\u001b[38;5;28;43;01mNone\u001b[39;49;00m\u001b[43m)\u001b[49m\u001b[43m,\u001b[49m\n\u001b[0;32m   1740\u001b[0m \u001b[43m    \u001b[49m\u001b[43mmemory_map\u001b[49m\u001b[38;5;241;43m=\u001b[39;49m\u001b[38;5;28;43mself\u001b[39;49m\u001b[38;5;241;43m.\u001b[39;49m\u001b[43moptions\u001b[49m\u001b[38;5;241;43m.\u001b[39;49m\u001b[43mget\u001b[49m\u001b[43m(\u001b[49m\u001b[38;5;124;43m\"\u001b[39;49m\u001b[38;5;124;43mmemory_map\u001b[39;49m\u001b[38;5;124;43m\"\u001b[39;49m\u001b[43m,\u001b[49m\u001b[43m \u001b[49m\u001b[38;5;28;43;01mFalse\u001b[39;49;00m\u001b[43m)\u001b[49m\u001b[43m,\u001b[49m\n\u001b[0;32m   1741\u001b[0m \u001b[43m    \u001b[49m\u001b[43mis_text\u001b[49m\u001b[38;5;241;43m=\u001b[39;49m\u001b[43mis_text\u001b[49m\u001b[43m,\u001b[49m\n\u001b[0;32m   1742\u001b[0m \u001b[43m    \u001b[49m\u001b[43merrors\u001b[49m\u001b[38;5;241;43m=\u001b[39;49m\u001b[38;5;28;43mself\u001b[39;49m\u001b[38;5;241;43m.\u001b[39;49m\u001b[43moptions\u001b[49m\u001b[38;5;241;43m.\u001b[39;49m\u001b[43mget\u001b[49m\u001b[43m(\u001b[49m\u001b[38;5;124;43m\"\u001b[39;49m\u001b[38;5;124;43mencoding_errors\u001b[39;49m\u001b[38;5;124;43m\"\u001b[39;49m\u001b[43m,\u001b[49m\u001b[43m \u001b[49m\u001b[38;5;124;43m\"\u001b[39;49m\u001b[38;5;124;43mstrict\u001b[39;49m\u001b[38;5;124;43m\"\u001b[39;49m\u001b[43m)\u001b[49m\u001b[43m,\u001b[49m\n\u001b[0;32m   1743\u001b[0m \u001b[43m    \u001b[49m\u001b[43mstorage_options\u001b[49m\u001b[38;5;241;43m=\u001b[39;49m\u001b[38;5;28;43mself\u001b[39;49m\u001b[38;5;241;43m.\u001b[39;49m\u001b[43moptions\u001b[49m\u001b[38;5;241;43m.\u001b[39;49m\u001b[43mget\u001b[49m\u001b[43m(\u001b[49m\u001b[38;5;124;43m\"\u001b[39;49m\u001b[38;5;124;43mstorage_options\u001b[39;49m\u001b[38;5;124;43m\"\u001b[39;49m\u001b[43m,\u001b[49m\u001b[43m \u001b[49m\u001b[38;5;28;43;01mNone\u001b[39;49;00m\u001b[43m)\u001b[49m\u001b[43m,\u001b[49m\n\u001b[0;32m   1744\u001b[0m \u001b[43m\u001b[49m\u001b[43m)\u001b[49m\n\u001b[0;32m   1745\u001b[0m \u001b[38;5;28;01massert\u001b[39;00m \u001b[38;5;28mself\u001b[39m\u001b[38;5;241m.\u001b[39mhandles \u001b[38;5;129;01mis\u001b[39;00m \u001b[38;5;129;01mnot\u001b[39;00m \u001b[38;5;28;01mNone\u001b[39;00m\n\u001b[0;32m   1746\u001b[0m f \u001b[38;5;241m=\u001b[39m \u001b[38;5;28mself\u001b[39m\u001b[38;5;241m.\u001b[39mhandles\u001b[38;5;241m.\u001b[39mhandle\n",
      "File \u001b[1;32m~\\anaconda3\\lib\\site-packages\\pandas\\io\\common.py:856\u001b[0m, in \u001b[0;36mget_handle\u001b[1;34m(path_or_buf, mode, encoding, compression, memory_map, is_text, errors, storage_options)\u001b[0m\n\u001b[0;32m    851\u001b[0m \u001b[38;5;28;01melif\u001b[39;00m \u001b[38;5;28misinstance\u001b[39m(handle, \u001b[38;5;28mstr\u001b[39m):\n\u001b[0;32m    852\u001b[0m     \u001b[38;5;66;03m# Check whether the filename is to be opened in binary mode.\u001b[39;00m\n\u001b[0;32m    853\u001b[0m     \u001b[38;5;66;03m# Binary mode does not support 'encoding' and 'newline'.\u001b[39;00m\n\u001b[0;32m    854\u001b[0m     \u001b[38;5;28;01mif\u001b[39;00m ioargs\u001b[38;5;241m.\u001b[39mencoding \u001b[38;5;129;01mand\u001b[39;00m \u001b[38;5;124m\"\u001b[39m\u001b[38;5;124mb\u001b[39m\u001b[38;5;124m\"\u001b[39m \u001b[38;5;129;01mnot\u001b[39;00m \u001b[38;5;129;01min\u001b[39;00m ioargs\u001b[38;5;241m.\u001b[39mmode:\n\u001b[0;32m    855\u001b[0m         \u001b[38;5;66;03m# Encoding\u001b[39;00m\n\u001b[1;32m--> 856\u001b[0m         handle \u001b[38;5;241m=\u001b[39m \u001b[38;5;28;43mopen\u001b[39;49m\u001b[43m(\u001b[49m\n\u001b[0;32m    857\u001b[0m \u001b[43m            \u001b[49m\u001b[43mhandle\u001b[49m\u001b[43m,\u001b[49m\n\u001b[0;32m    858\u001b[0m \u001b[43m            \u001b[49m\u001b[43mioargs\u001b[49m\u001b[38;5;241;43m.\u001b[39;49m\u001b[43mmode\u001b[49m\u001b[43m,\u001b[49m\n\u001b[0;32m    859\u001b[0m \u001b[43m            \u001b[49m\u001b[43mencoding\u001b[49m\u001b[38;5;241;43m=\u001b[39;49m\u001b[43mioargs\u001b[49m\u001b[38;5;241;43m.\u001b[39;49m\u001b[43mencoding\u001b[49m\u001b[43m,\u001b[49m\n\u001b[0;32m    860\u001b[0m \u001b[43m            \u001b[49m\u001b[43merrors\u001b[49m\u001b[38;5;241;43m=\u001b[39;49m\u001b[43merrors\u001b[49m\u001b[43m,\u001b[49m\n\u001b[0;32m    861\u001b[0m \u001b[43m            \u001b[49m\u001b[43mnewline\u001b[49m\u001b[38;5;241;43m=\u001b[39;49m\u001b[38;5;124;43m\"\u001b[39;49m\u001b[38;5;124;43m\"\u001b[39;49m\u001b[43m,\u001b[49m\n\u001b[0;32m    862\u001b[0m \u001b[43m        \u001b[49m\u001b[43m)\u001b[49m\n\u001b[0;32m    863\u001b[0m     \u001b[38;5;28;01melse\u001b[39;00m:\n\u001b[0;32m    864\u001b[0m         \u001b[38;5;66;03m# Binary mode\u001b[39;00m\n\u001b[0;32m    865\u001b[0m         handle \u001b[38;5;241m=\u001b[39m \u001b[38;5;28mopen\u001b[39m(handle, ioargs\u001b[38;5;241m.\u001b[39mmode)\n",
      "\u001b[1;31mFileNotFoundError\u001b[0m: [Errno 2] No such file or directory: 'salarios.csv'"
     ]
    }
   ],
   "source": [
    "# aciona o pacote pandas e cria um alias (apelido) para facilitar\n",
    "import pandas as pd  \n",
    "\n",
    "arquivo = \"salarios.csv\"  # abrir arquivo csv\n",
    "df = pd.read_csv(arquivo, sep=';')  # importa dados para a variável df usando a função read_csv\n",
    "df.head()  # ler as primeiras linhas da dataset (padrão de 5 primeiras linhas)"
   ]
  },
  {
   "cell_type": "code",
   "execution_count": null,
   "id": "82246cb9-8078-4206-ac84-0e9c59c35ef8",
   "metadata": {},
   "outputs": [],
   "source": [
    "print(df.info()) "
   ]
  },
  {
   "cell_type": "code",
   "execution_count": null,
   "id": "e26e97e5-85f0-48b9-94cb-ab222ce22a52",
   "metadata": {},
   "outputs": [],
   "source": [
    "df = pd.read_csv(arquivo, sep=';')  # importa dados para a variável df usando a função read_csv\n",
    "pd.options.display.max_rows = 999 #forma de quebrar a regra de 60 linhas como padrão do print\n",
    "print(df)"
   ]
  },
  {
   "cell_type": "code",
   "execution_count": null,
   "id": "cc0ac05d-bdc2-4ed6-8679-f04bf34a3c30",
   "metadata": {},
   "outputs": [],
   "source": [
    "# contagem de linhas da base\n",
    "print(len(df))"
   ]
  },
  {
   "cell_type": "code",
   "execution_count": null,
   "id": "26f407f8-f0da-4b22-8ac9-4b8c0aa5778a",
   "metadata": {},
   "outputs": [],
   "source": [
    "# contagem de elementos de uma coluna\n",
    "df['Department'].value_counts()"
   ]
  },
  {
   "cell_type": "code",
   "execution_count": null,
   "id": "6b42815d-2f46-4d96-b069-5f1d2795fb7a",
   "metadata": {},
   "outputs": [],
   "source": [
    "# ler as últimas linhas da base\n",
    "print(df.tail()) "
   ]
  },
  {
   "cell_type": "code",
   "execution_count": null,
   "id": "dee257fb-9e56-4539-bd96-50384f2fabea",
   "metadata": {},
   "outputs": [],
   "source": [
    "#adicionando mais uma linha ao dataframe\n",
    "df1 = pd.DataFrame({'Name': ['João'], 'Position Title': ['Policial'], 'Department': ['Polícia'], 'Employee Annual Salary': [120000]})\n",
    "df2 = df.append(df1)\n",
    "print(df2.tail())"
   ]
  },
  {
   "cell_type": "code",
   "execution_count": null,
   "id": "ef5599bd-10e2-46eb-a710-fcbe07943bc7",
   "metadata": {},
   "outputs": [],
   "source": [
    "# criar agrupamento e apresentar os códigos de cada grupo\n",
    "print(df.groupby('Department').groups)\n",
    "\n",
    "# criar novo data a partir do agrupamento\n",
    "df3 = df.groupby('Department')\n",
    "df3.first() #apresenta a primeira linha de cada grupo\n"
   ]
  },
  {
   "cell_type": "code",
   "execution_count": null,
   "id": "8a747e1c-6488-4d62-b13e-f4d1afa2f54b",
   "metadata": {},
   "outputs": [],
   "source": [
    "df.groupby('Department').sum() # agrupar utilizando uma das colunas e soma (ou concatena) demais colunas\n",
    "df.groupby('Department').mean() #agrupar e calcular a média para as demais colunas numéricas"
   ]
  },
  {
   "cell_type": "code",
   "execution_count": null,
   "id": "113d8c64-b085-4a1c-8e46-3faff4fdb30b",
   "metadata": {},
   "outputs": [],
   "source": [
    "# criação de gráficos a  partir dos dataframes\n",
    "import matplotlib.pyplot as plt\n",
    "\n",
    "# gráfico de linha\n",
    "df.plot()\n",
    "plt.show()"
   ]
  },
  {
   "cell_type": "code",
   "execution_count": null,
   "id": "f239892e-77a5-486c-b56d-1b3b0370bd4c",
   "metadata": {},
   "outputs": [],
   "source": [
    "# gráfico de dispersão\n",
    "df.plot(kind = 'scatter', x = 'Department', y = 'Employee Annual Salary')\n",
    "plt.show()"
   ]
  },
  {
   "cell_type": "code",
   "execution_count": null,
   "id": "b11f69bf-d36a-4bba-a852-3781899c27e9",
   "metadata": {},
   "outputs": [],
   "source": [
    "# gráfico do tipo histograma\n",
    "df[\"Employee Annual Salary\"].plot(kind = 'hist')"
   ]
  },
  {
   "cell_type": "code",
   "execution_count": null,
   "id": "b1fa162d-402c-4fed-be59-4d4cc50a1c37",
   "metadata": {},
   "outputs": [],
   "source": [
    "#help(df)"
   ]
  },
  {
   "cell_type": "markdown",
   "id": "f89ed697-01a7-4ed4-ba41-06f61ad574a2",
   "metadata": {},
   "source": [
    "## Desafio: Usando pacote Pandas"
   ]
  },
  {
   "cell_type": "markdown",
   "id": "e24b6225-b464-49fd-9b09-e3a0c1752364",
   "metadata": {},
   "source": [
    "Exercício 4 - Leia o arquivo empresa1.csv e apresente os resultados 3 primeiros resultados da tabela usando o método head()\n",
    "- Exigência: deve utilizar o pacote pandas"
   ]
  },
  {
   "cell_type": "code",
   "execution_count": null,
   "id": "50e96780-cfee-40f9-9361-4bfab393e350",
   "metadata": {},
   "outputs": [],
   "source": [
    "import pandas as pd  \n",
    "\n",
    "arquivo = \"aula10/empresa1.csv\" \n",
    "dfe = pd.read_csv(arquivo, sep=';') \n",
    "dfe.head(3) "
   ]
  },
  {
   "cell_type": "markdown",
   "id": "0b34b1e9-cdce-4a66-b112-388d5d60236f",
   "metadata": {},
   "source": [
    "Exercício 5 - Apresente os dados do dataframe utilizando gráficos. Crie um gráfico de linha, simples, que apresente todos os indicadores ao longo do tempo. Crie um gráfico de dispersão para ajudar na relação entre EBITDA e Lucro operacional. Crie um histograma do Lucro do período. "
   ]
  },
  {
   "cell_type": "code",
   "execution_count": null,
   "id": "e76f048e-a59e-4cf8-a059-4626c86d8689",
   "metadata": {},
   "outputs": [],
   "source": [
    "import matplotlib.pyplot as plt\n",
    "\n",
    "dfe.plot()\n",
    "plt.show()"
   ]
  },
  {
   "cell_type": "code",
   "execution_count": null,
   "id": "476b6fd6-267b-45cc-8f28-898c9c9be2ea",
   "metadata": {},
   "outputs": [],
   "source": [
    "dfe.plot(kind = 'scatter', x = 'EBITDA', y = 'Lucro operacional')\n",
    "plt.show()"
   ]
  },
  {
   "cell_type": "code",
   "execution_count": null,
   "id": "5b20561d-e57c-48aa-9c77-b93db25cdf92",
   "metadata": {},
   "outputs": [],
   "source": [
    "dfe[\"Lucro do período\"].plot(kind = 'hist')"
   ]
  },
  {
   "cell_type": "markdown",
   "id": "f993feb5-ebd3-4600-9033-019c155f7560",
   "metadata": {},
   "source": [
    "Exercício 6 - Agrupe a base acima por ano, em um novo dataframe, e apresente a soma das demais colunas"
   ]
  },
  {
   "cell_type": "code",
   "execution_count": null,
   "id": "36df0bcb-2203-49b5-b85d-6d41bb033719",
   "metadata": {},
   "outputs": [],
   "source": [
    "dfe.groupby('Ano').mean()"
   ]
  },
  {
   "cell_type": "markdown",
   "id": "73152f25-3d1d-4f95-b4fb-b8cf988bba84",
   "metadata": {
    "tags": []
   },
   "source": [
    "## Manipular arquivo JSON usando pacote JSON"
   ]
  },
  {
   "cell_type": "markdown",
   "id": "dbef9650-e88e-4a7f-9f5d-fbb56016ddc0",
   "metadata": {},
   "source": [
    "JSON é um pacote útil na manipulação de arquivos e registro de configurações, principalmente em aplicações WEB\n",
    "\n",
    "Documentação: https://docs.python.org/pt-br/3/library/json.html\n",
    "\n",
    "JSON  |  Python\n",
    "------|-------\n",
    "object | dict\n",
    "array | lista\n",
    "string | str\n",
    "number (int) | int\n",
    "number (real) | float\n",
    "true | True\n",
    "false | False\n",
    "null | None\n"
   ]
  },
  {
   "cell_type": "code",
   "execution_count": null,
   "id": "ba51fd9b-4ab2-4d02-b6fa-523c12b1107c",
   "metadata": {},
   "outputs": [],
   "source": [
    "# Importando o módulo Json\n",
    "import json\n",
    "\n",
    "# Criando um dicionário\n",
    "dict = {'nome': 'Guido van Rossum',\n",
    "        'linguagem': 'Python',\n",
    "        'similar': ['c','Modula-3','lisp'],\n",
    "        'users': 1000000}\n",
    "\n",
    "# Convertendo o dicionário para um objeto json\n",
    "json.dumps(dict)\n",
    "\n",
    "# Criando um arquivo Json\n",
    "with open('aula10/dados.json','w') as arquivo:\n",
    "    arquivo.write(json.dumps(dict))\n",
    "\n",
    "# Leitura de arquivos Json\n",
    "with open('aula10/dados.json','r') as arquivo:\n",
    "    texto = arquivo.read()\n",
    "    data = json.loads(texto)\n",
    "print (data)\n",
    "print (data['nome']) # imprime dado v de um dos itens k\n"
   ]
  },
  {
   "cell_type": "code",
   "execution_count": null,
   "id": "8d18badf-0d6a-410f-8b27-16c15197fbfe",
   "metadata": {},
   "outputs": [],
   "source": [
    "# Imprimindo um arquivo Json copiado da internet\n",
    "from urllib.request import urlopen # habilita pacote urlopen\n",
    "response = urlopen(\"http://vimeo.com/api/v2/video/57733101.json\").read().decode('utf8') # lê arquivo json da internet\n",
    "data = json.loads(response)[0] # salva dados do arquivo json em nova variável\n",
    "print ('Título: ', data['title'])\n",
    "print ('URL: ', data['url'])\n",
    "print ('Duração: ', data['duration'])\n",
    "print ('Número de Visualizações: ', data['stats_number_of_plays'])\n"
   ]
  },
  {
   "cell_type": "code",
   "execution_count": null,
   "id": "40186ad9-3480-4fff-990f-363951593f5c",
   "metadata": {},
   "outputs": [],
   "source": [
    "# Copiando o conteúdo de um arquivo para outro usando pacote OS\n",
    "import os\n",
    "arquivo_fonte = 'aula10/dados.json'\n",
    "arquivo_destino = 'aula10/json_data.txt'\n",
    "open(arquivo_destino,'w').write(open(arquivo_fonte,'r').read()) # escreve no arquivo destino o que leu no arquivo fonte\n"
   ]
  },
  {
   "cell_type": "code",
   "execution_count": null,
   "id": "c1f6dead-9e42-4167-86d2-c3c63eb48784",
   "metadata": {},
   "outputs": [],
   "source": []
  },
  {
   "cell_type": "code",
   "execution_count": null,
   "id": "caf739b6-0bb0-439c-93a5-44b48dbf3034",
   "metadata": {},
   "outputs": [],
   "source": []
  },
  {
   "cell_type": "code",
   "execution_count": null,
   "id": "406f5671-7cd6-4f96-a14a-52d76d1e77cf",
   "metadata": {},
   "outputs": [],
   "source": []
  },
  {
   "cell_type": "code",
   "execution_count": null,
   "id": "ca9f05ad-e4a8-4e65-a05b-ae80be239019",
   "metadata": {},
   "outputs": [],
   "source": []
  },
  {
   "cell_type": "code",
   "execution_count": null,
   "id": "55dbf83f-4e2c-45f2-81f1-fff568f36811",
   "metadata": {},
   "outputs": [],
   "source": []
  },
  {
   "cell_type": "code",
   "execution_count": null,
   "id": "e10b4a47-5375-40c6-a323-e4ae3b27f06d",
   "metadata": {},
   "outputs": [],
   "source": []
  },
  {
   "cell_type": "code",
   "execution_count": null,
   "id": "45ff4857-1972-4a61-b35a-83d3c29f6ff2",
   "metadata": {},
   "outputs": [],
   "source": []
  },
  {
   "cell_type": "code",
   "execution_count": null,
   "id": "6256506d-e276-410b-82ff-99465527b2bc",
   "metadata": {},
   "outputs": [],
   "source": []
  }
 ],
 "metadata": {
  "kernelspec": {
   "display_name": "Python 3 (ipykernel)",
   "language": "python",
   "name": "python3"
  },
  "language_info": {
   "codemirror_mode": {
    "name": "ipython",
    "version": 3
   },
   "file_extension": ".py",
   "mimetype": "text/x-python",
   "name": "python",
   "nbconvert_exporter": "python",
   "pygments_lexer": "ipython3",
   "version": "3.10.9"
  }
 },
 "nbformat": 4,
 "nbformat_minor": 5
}
